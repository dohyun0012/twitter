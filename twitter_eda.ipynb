{
 "cells": [
  {
   "cell_type": "code",
   "execution_count": 1,
   "metadata": {},
   "outputs": [],
   "source": [
    "import pandas as pd\n",
    "import matplotlib.pyplot as plt\n",
    "\n",
    "%matplotlib inline"
   ]
  },
  {
   "cell_type": "code",
   "execution_count": 183,
   "metadata": {},
   "outputs": [
    {
     "data": {
      "text/html": [
       "<div>\n",
       "<style scoped>\n",
       "    .dataframe tbody tr th:only-of-type {\n",
       "        vertical-align: middle;\n",
       "    }\n",
       "\n",
       "    .dataframe tbody tr th {\n",
       "        vertical-align: top;\n",
       "    }\n",
       "\n",
       "    .dataframe thead th {\n",
       "        text-align: right;\n",
       "    }\n",
       "</style>\n",
       "<table border=\"1\" class=\"dataframe\">\n",
       "  <thead>\n",
       "    <tr style=\"text-align: right;\">\n",
       "      <th></th>\n",
       "      <th>datetime</th>\n",
       "      <th>campaign_id</th>\n",
       "      <th>campaign_spend</th>\n",
       "      <th>campaign_budget</th>\n",
       "      <th>matched_targeting</th>\n",
       "      <th>objective</th>\n",
       "      <th>charged</th>\n",
       "      <th>seen_by_user</th>\n",
       "      <th>bid</th>\n",
       "      <th>minutes</th>\n",
       "    </tr>\n",
       "  </thead>\n",
       "  <tbody>\n",
       "    <tr>\n",
       "      <th>29401</th>\n",
       "      <td>2018-04-23 12:56:26.263000</td>\n",
       "      <td>2</td>\n",
       "      <td>235.823082</td>\n",
       "      <td>3550.0</td>\n",
       "      <td>['GEO', 'AGE_BUCKET', 'LANGUAGE', 'GENDER']</td>\n",
       "      <td>WEBSITE_CLICKS</td>\n",
       "      <td>0.0</td>\n",
       "      <td>False</td>\n",
       "      <td>1.15</td>\n",
       "      <td>2018-04-23 12:57:00</td>\n",
       "    </tr>\n",
       "    <tr>\n",
       "      <th>26693</th>\n",
       "      <td>2018-04-23 11:54:18.404520</td>\n",
       "      <td>1</td>\n",
       "      <td>481.459558</td>\n",
       "      <td>500.0</td>\n",
       "      <td>GEO</td>\n",
       "      <td>WEBSITE_CLICKS</td>\n",
       "      <td>0.0</td>\n",
       "      <td>False</td>\n",
       "      <td>7.50</td>\n",
       "      <td>2018-04-23 11:55:00</td>\n",
       "    </tr>\n",
       "    <tr>\n",
       "      <th>16538</th>\n",
       "      <td>2018-04-23 10:59:47.708840</td>\n",
       "      <td>1</td>\n",
       "      <td>331.832928</td>\n",
       "      <td>500.0</td>\n",
       "      <td>GEO</td>\n",
       "      <td>WEBSITE_CLICKS</td>\n",
       "      <td>0.0</td>\n",
       "      <td>False</td>\n",
       "      <td>7.50</td>\n",
       "      <td>2018-04-23 11:00:00</td>\n",
       "    </tr>\n",
       "    <tr>\n",
       "      <th>66235</th>\n",
       "      <td>2018-04-24 05:57:07.016000</td>\n",
       "      <td>3</td>\n",
       "      <td>49.288830</td>\n",
       "      <td>1000.0</td>\n",
       "      <td>['LANGUAGE', 'GEO']</td>\n",
       "      <td>APP_INSTALLS</td>\n",
       "      <td>0.0</td>\n",
       "      <td>False</td>\n",
       "      <td>1.50</td>\n",
       "      <td>2018-04-24 05:58:00</td>\n",
       "    </tr>\n",
       "    <tr>\n",
       "      <th>31718</th>\n",
       "      <td>2018-04-23 14:51:13.769000</td>\n",
       "      <td>7</td>\n",
       "      <td>179.549099</td>\n",
       "      <td>1075.0</td>\n",
       "      <td>['GEO']</td>\n",
       "      <td>VIDEO_VIEWS</td>\n",
       "      <td>0.0</td>\n",
       "      <td>False</td>\n",
       "      <td>0.50</td>\n",
       "      <td>2018-04-23 14:52:00</td>\n",
       "    </tr>\n",
       "  </tbody>\n",
       "</table>\n",
       "</div>"
      ],
      "text/plain": [
       "                        datetime  campaign_id  campaign_spend  \\\n",
       "29401 2018-04-23 12:56:26.263000            2      235.823082   \n",
       "26693 2018-04-23 11:54:18.404520            1      481.459558   \n",
       "16538 2018-04-23 10:59:47.708840            1      331.832928   \n",
       "66235 2018-04-24 05:57:07.016000            3       49.288830   \n",
       "31718 2018-04-23 14:51:13.769000            7      179.549099   \n",
       "\n",
       "       campaign_budget                            matched_targeting  \\\n",
       "29401           3550.0  ['GEO', 'AGE_BUCKET', 'LANGUAGE', 'GENDER']   \n",
       "26693            500.0                                          GEO   \n",
       "16538            500.0                                          GEO   \n",
       "66235           1000.0                          ['LANGUAGE', 'GEO']   \n",
       "31718           1075.0                                      ['GEO']   \n",
       "\n",
       "            objective  charged  seen_by_user   bid             minutes  \n",
       "29401  WEBSITE_CLICKS      0.0         False  1.15 2018-04-23 12:57:00  \n",
       "26693  WEBSITE_CLICKS      0.0         False  7.50 2018-04-23 11:55:00  \n",
       "16538  WEBSITE_CLICKS      0.0         False  7.50 2018-04-23 11:00:00  \n",
       "66235    APP_INSTALLS      0.0         False  1.50 2018-04-24 05:58:00  \n",
       "31718     VIDEO_VIEWS      0.0         False  0.50 2018-04-23 14:52:00  "
      ]
     },
     "execution_count": 183,
     "metadata": {},
     "output_type": "execute_result"
    }
   ],
   "source": [
    "# loading data\n",
    "df = pd.read_csv('twitter_marketplace_data (5) (1).csv', parse_dates=['datetime'])\n",
    "df = df.sort_values(['campaign_id', 'datetime'])  # keep the dataframe sorted\n",
    "df['minutes'] = df.datetime.dt.ceil('min')  # new column, truncated datetime to minute for plotting\n",
    "df.sample(5)"
   ]
  },
  {
   "cell_type": "markdown",
   "metadata": {},
   "source": [
    "# Question 1\n",
    "How are these campaigns pacing, i.e. how is it spending relative to its budget? Can you plot the spend vs. time for campaign 1 and 2?\n",
    "- Please refer to the chart below. Campaign 1 spent its budget within 3 hours. While it is good that this campaign spent its budget and received website clicks at the specified bid and targeting, it is possible that the money was not spent most efficiently and effectively. Campaign 2 has been running for almost a whole day, but it only spent a third of its budget. This campaign failed to spend its budget for the day, potentially due to conservative bidding and targeting, and that may ultimately result in the campaign not receiving the desired number of website clicks."
   ]
  },
  {
   "cell_type": "code",
   "execution_count": 177,
   "metadata": {},
   "outputs": [
    {
     "data": {
      "image/png": "[encoded data removed]",
      "text/plain": [
       "<Figure size 1080x360 with 1 Axes>"
      ]
     },
     "metadata": {},
     "output_type": "display_data"
    }
   ],
   "source": [
    "minutes_df = df.groupby(['campaign_id', 'minutes']).last().reset_index()  # grab records from top of the minute\n",
    "\n",
    "fig, ax = plt.subplots(figsize=(15,5))\n",
    "\n",
    "for campaign, color in zip((1, 2), ('b', 'g')):\n",
    "    campaign_df = minutes_df[minutes_df.campaign_id == campaign]\n",
    "    time = campaign_df.minutes\n",
    "    spend = campaign_df.campaign_spend\n",
    "    campaign_budget = campaign_df.campaign_budget.max()\n",
    "    ax.plot(time, spend, color=color, label='campaign {} spend'.format(campaign))\n",
    "    ax.plot(time, [campaign_budget for i in time], '--', color=color, label='campaign {} budget'.format(campaign))\n",
    "\n",
    "ax.set_title('Campaign Spend Over Time', size=20)\n",
    "ax.set_ylabel('Spend', size=15)\n",
    "ax.legend(loc=(1.02, 0.7), fontsize=12);"
   ]
  },
  {
   "cell_type": "markdown",
   "metadata": {},
   "source": [
    "# Question 2\n",
    "Examining the engagement rate, the rate at which a (chargeable) impression occurs, how are these campaigns different?\n",
    "- NOTE: I am assuming that chargeable impression here means that the user engaged with the ad (charged != 0) and that engagement rate is chargeable impression per hour (I also explore engagement per served impression later). Since the dataset is a random sample, this metric appears to be a great underestimation. If needed, we can assume that the observed charged amounts can be generalized to the rest of the ad requests and get to a more accurate estimation of the true engagement rate. However, for this exercise, I am simply calculating engagement rate using observed data as the intent is to compare between two campaigns.\n",
    "- Please refer to the output from code below. On average, campaign 1 sees 38 website clicks per hour compared to 0.1 website click per hour for campaign 2 (both underestimations). Assuming that the random sample for each campaign is roughly an equal percentage of the population, the difference in this metric between campaign 1 and campaign 2 is obvious and doesn't require hypothesis testing. While this metric alone looks good for campaign 1 as it indicates that the campaign is receiving a lot of website clicks, it is possible that the campaign is not spending its money as efficiently as it can. For instance, with a lower bid and detailed targeting, the campaign may attract more users (better targeted) at a lower price throughout a longer period of the day."
   ]
  },
  {
   "cell_type": "markdown",
   "metadata": {},
   "source": [
    "# Question 3\n",
    "How do these campaigns differ in the value of their bid and targeting parameters?\n",
    "- Please refer to the output from code below. Campaign 1 is an aggressive campaign in that it has a high bid; i.e. it is willing to spend a lot of money for website clicks. Additionally, targeting is broad compared to campaign 2. I can imagine this being a viable marketing/growth strategy given that the campaign will only be charged the second highest price and not the full price of the bid (wash out the competitors while paying only second highest price, making the bet that the second price is significantly lower than the campaign's bid). On the other hand, campaign 2 is conservative with its bid; i.e. it is only willing to spend a small amount of money for website clicks. At the same time, this campaign has more targeting parameters, so the eligible pool of users will be much smaller for this campaign. These two campaigns appear to represent two extremes: campaign 1 represents an aggressive campaign that favors growth over efficiency, and campaign 2 represents a conservative approach that favors efficiency over growth. Neither of them likely achieved the optimal balance between growth and efficiency."
   ]
  },
  {
   "cell_type": "markdown",
   "metadata": {},
   "source": [
    "# Question 4\n",
    "How could campaign 1 change their bid or targeting criteria to help maximize the number of impressions they get per dollar while also spending their whole budget? What about campaign 2?\n",
    "\n",
    "- Please refer to the output from code below. The fact that campaign 1 burned through its daily budget in three hours indicates that the campaign may benefit from being a bit more conservative with its bid and also targeting a more curated pool of users. If the campaign lowers its bid, the campaign will spend less per website click to generate more website clicks throughout the day. Engagement rate will decrease, but the campaign will be able to run throughout a longer period of the day, eventually leading to greater bottom-line website clicks. Additionally, by adding more targeting parameters, Twitter's algorithm will likely increase pClick, which will increase ECPI, which increases the chance of the campaign's ad winning the auction, and that will increase the number of impressions.\n",
    "- Campaign 2 suffers from not being able to spend its budget. It was perhaps a bit too conservative in terms of setting its bid and targeting. It is uncertain whether impressions per dollar (which measures efficiency) will increase or decrease with increased bid and less targeting, but campaign 2 should try to increase its bid and decrease the number of targeting parameters in order to spend its daily budget to get more impressions in a day, all the while monitoring impressions per dollar and ensuring that it does not decrease drasticallly."
   ]
  },
  {
   "cell_type": "code",
   "execution_count": 236,
   "metadata": {},
   "outputs": [],
   "source": [
    "def engagement_rate(df):\n",
    "    \"\"\"\n",
    "    Given a df of campaign, returns engagement rate as defined by number of chargeable ads / hour\n",
    "    \"\"\"\n",
    "    max_time = campaign_df.datetime.max()\n",
    "    min_time = campaign_df.datetime.min()\n",
    "    duration = (max_time - min_time).total_seconds() / 3600  # unit is hour\n",
    "    charged_ads = len(campaign_df[campaign_df.charged != 0])  # number of ads that resulted in chargeable impression\n",
    "    return round(charged_ads / duration, 2)\n",
    "\n",
    "def impressions_per_dollar(df):\n",
    "    \"\"\"\n",
    "    Given a df of campaign, returns impressions per dollar as defined by number of served impressions / dollar\n",
    "    \"\"\"\n",
    "    spend = campaign_df.campaign_spend.max()  # campaign spend is cumulative, so max is total dollars spent\n",
    "    impressions = len(campaign_df)  # each row in the df is an impression\n",
    "    return round(impressions / spend, 1)"
   ]
  },
  {
   "cell_type": "code",
   "execution_count": 216,
   "metadata": {},
   "outputs": [
    {
     "name": "stdout",
     "output_type": "stream",
     "text": [
      "Campaign 1\n",
      "engagement rate: 37.68 (underestimate)\n",
      "bid: 7.5\n",
      "targeting params: GEO\n",
      "impressions per dollar: 51.5 (underestimate)\n",
      "\n",
      "Campaign 2\n",
      "engagement rate: 0.1 (underestimate)\n",
      "bid: 1.15\n",
      "targeting params: ['GEO', 'AGE_BUCKET', 'LANGUAGE', 'GENDER']\n",
      "impressions per dollar: 1.2 (underestimate)\n",
      "\n"
     ]
    }
   ],
   "source": [
    "for campaign in (1, 2):\n",
    "    campaign_df = df[df.campaign_id == campaign]\n",
    "    print('Campaign {}'.format(campaign))\n",
    "    print('engagement rate: {} (underestimate)'.format(engagement_rate(campaign_df)))\n",
    "    print('bid: {}'.format(campaign_df.bid.max()))\n",
    "    print('targeting params: {}'.format(campaign_df.matched_targeting.max()))\n",
    "    print('impressions per dollar: {} (underestimate)'.format(impressions_per_dollar(campaign_df)))\n",
    "    print()"
   ]
  },
  {
   "cell_type": "markdown",
   "metadata": {},
   "source": [
    "# Question 5\n",
    "Let’s look at the data for the app install vs. video view objective. What can you deduce about how these objectives differ in engagement rate, bid, and other key metrics? How might it affect campaign pacing?\n",
    "\n",
    "- Please refer to the output from code below. There are a few metrics I am omitting for this analysis due to time constraints: incorporating ads seen by users. App install campaigns have higher bids, which may reflect the advertisers' view that app installs are worth more than video views. Also, users are less likely to install an app than to watch a video. While it appears that more app install impressions are served (potentially due to a higher bid), engagement rate and engagement percentage is lower for app installs, again supporting evidence for the statement that users are more likely to watch a video than to install an app. The value of an app install and a video watch is specified by the advertisers, but advertisers should be aware that users are less likely to engage with an ad that asks them to install an app compared to an ad that asks them to watch a video. Consequently, the advertiser to should expect to increase the bid in order to make up for the lower engagement rate and engagement percentage of app installs in order to meet their goals for app installs.\n",
    "- For this analysis, we also need to ensure that we are making apples to apples comparison between these two objective groups by controlling for other variables such as targeting parameters. One method would be to use linear regression where one independent variable may be the number of targeting parameters. I have unfortunately left this part out due to time constraints."
   ]
  },
  {
   "cell_type": "markdown",
   "metadata": {},
   "source": [
    "# Question 6\n",
    "Are ads from each objective seen by users at the same rate? What might explain the difference?\n",
    "- Please refer to the output from code below. Ads from app installs are seen at a lower rate than ads from video views. As the rate is defined by seen ads per served impressions, it appears to be related less with winning the bid and more with the ranking of the ads within the feed. One hypothesis is that Twitter's algorithm will put ads with lower pClick on a lower position within the feed. This would mean that users have to scroll more to view app install ads compared to video view ads. One reason for this mechanism within the algorithm may be a desire to \"ease\" users into ads. Showing an app install ad early on may be more disruptive to the user experience compared to showing a video view ad early on, and further down the feed it becomes less disruptive."
   ]
  },
  {
   "cell_type": "code",
   "execution_count": 257,
   "metadata": {},
   "outputs": [],
   "source": [
    "def engagement_per_dollar(df):\n",
    "    \"\"\"\n",
    "    Given a df of campaign, returns engagement per dollar as defined by number of chargeable ads / dollar\n",
    "    \"\"\"\n",
    "    spend = campaign_df.campaign_spend.max()  # campaign spend is cumulative, so max is total dollars spent\n",
    "    charged_ads = len(campaign_df[campaign_df.charged != 0])  # number of ads that resulted in chargeable impression\n",
    "    return charged_ads / spend\n",
    "\n",
    "def engagement_percentage(df):\n",
    "    \"\"\"\n",
    "    Given a df of campaign, returns engagement percentage as defined by chargeable ads / served impressions\n",
    "    \"\"\"\n",
    "    charged_ads = len(campaign_df[campaign_df.charged != 0])  # number of ads that resulted in chargeable impression\n",
    "    impressions = len(campaign_df)\n",
    "    return charged_ads / impressions\n",
    "\n",
    "def seen_percentage(df):\n",
    "    \"\"\"\n",
    "    Given a df of campaign, returns seen percentage as defined by seen ads / served impressions\n",
    "    \"\"\"\n",
    "    seen_ads = len(campaign_df[campaign_df.seen_by_user])  # number of ads that were seen by the user\n",
    "    impressions = len(campaign_df)\n",
    "    return seen_ads / impressions    "
   ]
  },
  {
   "cell_type": "code",
   "execution_count": 258,
   "metadata": {},
   "outputs": [
    {
     "name": "stdout",
     "output_type": "stream",
     "text": [
      "APP_INSTALLS\n",
      "average engagement_rate: 1.48 (underestimate)\n",
      "average bid: 1.25\n",
      "average impression per dollar: 185.0 (underestimate)\n",
      "average engagement per dollar: 0.12 (underestimate)\n",
      "average engagement percentage: 0.001\n",
      "average seen percentage: 0.05\n",
      "\n",
      "VIDEO_VIEWS\n",
      "average engagement_rate: 12.14 (underestimate)\n",
      "average bid: 0.35\n",
      "average impression per dollar: 11.47 (underestimate)\n",
      "average engagement per dollar: 0.67 (underestimate)\n",
      "average engagement percentage: 0.061\n",
      "average seen percentage: 0.199\n",
      "\n"
     ]
    }
   ],
   "source": [
    "app_df = df[df.objective == 'APP_INSTALLS']\n",
    "vid_df = df[df.objective == 'VIDEO_VIEWS']\n",
    "\n",
    "for obj_df in (app_df, vid_df):  # iterate through the different objectives\n",
    "    engagement = []\n",
    "    bid = []\n",
    "    imp_per_dol = []  # impressions per dollar\n",
    "    eng_per_dol = []  # engagement per dollar\n",
    "    eng_perc = []  # engagement percentage\n",
    "    seen_perc = []\n",
    "    for campaign in obj_df.campaign_id.unique():  # iterate through the different campaigns in each objective\n",
    "        campaign_df = obj_df[obj_df.campaign_id == campaign]\n",
    "        engagement.append(engagement_rate(campaign_df))\n",
    "        bid.append(campaign_df.bid.iloc[0])\n",
    "        imp_per_dol.append(impressions_per_dollar(campaign_df))\n",
    "        eng_per_dol.append(engagement_per_dollar(campaign_df))\n",
    "        eng_perc.append(engagement_percentage(campaign_df))\n",
    "        seen_perc.append(seen_percentage(campaign_df))\n",
    "    avg_engagement = round(sum(engagement) / len(engagement), 2)\n",
    "    avg_bid = round(sum(bid) / len(bid), 2)\n",
    "    avg_imp_per_dol = round(sum(imp_per_dol) / len(imp_per_dol), 2)\n",
    "    avg_eng_per_dol = round(sum(eng_per_dol) / len(eng_per_dol), 2)\n",
    "    avg_eng_perc = round(sum(eng_perc) / len(eng_perc), 3)\n",
    "    avg_seen_perc = round(sum(seen_perc) / len(seen_perc), 3)\n",
    "    print(obj_df.objective.iloc[0])\n",
    "    print('average engagement_rate: {} (underestimate)'.format(avg_engagement))\n",
    "    print('average bid: {}'.format(avg_bid))\n",
    "    print('average impression per dollar: {} (underestimate)'.format(avg_imp_per_dol))\n",
    "    print('average engagement per dollar: {} (underestimate)'.format(avg_eng_per_dol))\n",
    "    print('average engagement percentage: {}'.format(avg_eng_perc))\n",
    "    print('average seen percentage: {}'.format(avg_seen_perc))\n",
    "    print()"
   ]
  },
  {
   "cell_type": "markdown",
   "metadata": {},
   "source": [
    "# Feedback\n",
    "- Parts that you enjoyed and parts that you didn’t (and why on both counts)\n",
    "  - I really enjoyed this exercise. It was fun, and I learned a lot!\n",
    "- A suggested, specific area for improvement\n",
    "  - It is not clear to me whether engagement rate in the question is engaged ads per time or engaged ads per served impressions."
   ]
  }
 ],
 "metadata": {
  "kernelspec": {
   "display_name": "Python 3",
   "language": "python",
   "name": "python3"
  },
  "language_info": {
   "codemirror_mode": {
    "name": "ipython",
    "version": 3
   },
   "file_extension": ".py",
   "mimetype": "text/x-python",
   "name": "python",
   "nbconvert_exporter": "python",
   "pygments_lexer": "ipython3",
   "version": "3.6.5"
  }
 },
 "nbformat": 4,
 "nbformat_minor": 2
}
